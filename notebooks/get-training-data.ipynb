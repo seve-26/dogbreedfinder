{
 "cells": [
  {
   "cell_type": "code",
   "execution_count": 1,
   "id": "vocational-cigarette",
   "metadata": {},
   "outputs": [],
   "source": [
    "import tensorflow_datasets as tfds"
   ]
  },
  {
   "cell_type": "code",
   "execution_count": 7,
   "id": "dutch-america",
   "metadata": {},
   "outputs": [],
   "source": [
    "data_train = tfds.load('stanford_dogs', split=\"train\", as_supervised=True)\n",
    "\n",
    "data_train_numpy = tfds.as_numpy(data_train)"
   ]
  },
  {
   "cell_type": "code",
   "execution_count": 32,
   "id": "infectious-independence",
   "metadata": {},
   "outputs": [],
   "source": [
    "from PIL import Image\n",
    "import numpy as np\n",
    "\n",
    "def resize_and_reshape(arr, size=(100,100)):\n",
    "    \"\"\"Gets np.array from initial dataset. Returns reshaped and resized np.array\"\"\"\n",
    "    return np.expand_dims(\n",
    "            np.asarray(\n",
    "                Image.fromarray(arr).resize(size)\n",
    "            ), axis=0\n",
    "    )"
   ]
  },
  {
   "cell_type": "code",
   "execution_count": 74,
   "id": "wicked-exploration",
   "metadata": {},
   "outputs": [],
   "source": [
    "X_train = np.array([])\n",
    "Y_train = np.array([])\n",
    "\n",
    "for row in data_train_numpy:\n",
    "    img = resize_and_reshape(row[0])\n",
    "    X_train = np.vstack([X_train, img]) if X_train.size else img\n",
    "    Y_train = np.hstack([Y_train, row[1]]) if Y_train.size else row[1]"
   ]
  },
  {
   "cell_type": "code",
   "execution_count": 75,
   "id": "adverse-coupon",
   "metadata": {},
   "outputs": [
    {
     "data": {
      "text/plain": [
       "['../raw_data/Y_train.joblib']"
      ]
     },
     "execution_count": 75,
     "metadata": {},
     "output_type": "execute_result"
    }
   ],
   "source": [
    "import joblib\n",
    "\n",
    "joblib.dump(X_train, '../raw_data/X_train.joblib')\n",
    "joblib.dump(Y_train, '../raw_data/Y_train.joblib')"
   ]
  },
  {
   "cell_type": "code",
   "execution_count": null,
   "id": "western-documentary",
   "metadata": {},
   "outputs": [],
   "source": []
  }
 ],
 "metadata": {
  "kernelspec": {
   "display_name": "Python 3",
   "language": "python",
   "name": "python3"
  },
  "language_info": {
   "codemirror_mode": {
    "name": "ipython",
    "version": 3
   },
   "file_extension": ".py",
   "mimetype": "text/x-python",
   "name": "python",
   "nbconvert_exporter": "python",
   "pygments_lexer": "ipython3",
   "version": "3.8.6"
  },
  "toc": {
   "base_numbering": 1,
   "nav_menu": {},
   "number_sections": true,
   "sideBar": true,
   "skip_h1_title": false,
   "title_cell": "Table of Contents",
   "title_sidebar": "Contents",
   "toc_cell": false,
   "toc_position": {},
   "toc_section_display": true,
   "toc_window_display": false
  }
 },
 "nbformat": 4,
 "nbformat_minor": 5
}

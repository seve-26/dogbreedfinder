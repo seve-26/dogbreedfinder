{
 "cells": [
  {
   "cell_type": "code",
   "execution_count": 1,
   "id": "impressive-windsor",
   "metadata": {},
   "outputs": [],
   "source": [
    "import joblib\n",
    "\n",
    "X_train = joblib.load('../raw_data/X_train.joblib')\n",
    "y_train = joblib.load('../raw_data/Y_train.joblib')"
   ]
  },
  {
   "cell_type": "code",
   "execution_count": 2,
   "id": "promotional-madrid",
   "metadata": {},
   "outputs": [],
   "source": [
    "# normalize\n",
    "X_train = X_train / 255\n",
    "\n",
    "# preprocess labels\n",
    "from tensorflow.keras.utils import to_categorical\n",
    "\n",
    "y_train = to_categorical(y_train, num_classes=120)"
   ]
  },
  {
   "cell_type": "code",
   "execution_count": 3,
   "id": "going-heavy",
   "metadata": {},
   "outputs": [],
   "source": [
    "from tensorflow.keras import Sequential, layers\n",
    "from tensorflow.keras.callbacks import EarlyStopping\n",
    "\n",
    "# build architecture\n",
    "model = Sequential()\n",
    "model.add(layers.Conv2D(10, 4, input_shape=X_train.shape[1:]))\n",
    "model.add(layers.MaxPooling2D(pool_size=5))\n",
    "model.add(layers.Flatten())\n",
    "model.add(layers.Dense(120,activation='relu'))\n",
    "model.add(layers.Dense(120,activation='softmax'))\n",
    "\n",
    "# compile model\n",
    "model.compile(loss='categorical_crossentropy', optimizer='adam',metrics=['accuracy'])\n",
    "\n",
    "# run architecture\n",
    "es = EarlyStopping(patience=5,restore_best_weights=True)"
   ]
  },
  {
   "cell_type": "code",
   "execution_count": 4,
   "id": "seeing-worthy",
   "metadata": {},
   "outputs": [
    {
     "name": "stdout",
     "output_type": "stream",
     "text": [
      "Model: \"sequential\"\n",
      "_________________________________________________________________\n",
      "Layer (type)                 Output Shape              Param #   \n",
      "=================================================================\n",
      "conv2d (Conv2D)              (None, 97, 97, 10)        490       \n",
      "_________________________________________________________________\n",
      "max_pooling2d (MaxPooling2D) (None, 19, 19, 10)        0         \n",
      "_________________________________________________________________\n",
      "flatten (Flatten)            (None, 3610)              0         \n",
      "_________________________________________________________________\n",
      "dense (Dense)                (None, 120)               433320    \n",
      "_________________________________________________________________\n",
      "dense_1 (Dense)              (None, 120)               14520     \n",
      "=================================================================\n",
      "Total params: 448,330\n",
      "Trainable params: 448,330\n",
      "Non-trainable params: 0\n",
      "_________________________________________________________________\n"
     ]
    }
   ],
   "source": [
    "model.summary()"
   ]
  },
  {
   "cell_type": "code",
   "execution_count": 5,
   "id": "dramatic-reproduction",
   "metadata": {},
   "outputs": [
    {
     "name": "stdout",
     "output_type": "stream",
     "text": [
      "Epoch 1/100\n",
      "600/600 [==============================] - 28s 44ms/step - loss: 4.8124 - accuracy: 0.0082 - val_loss: 4.6759 - val_accuracy: 0.0137\n",
      "Epoch 2/100\n",
      "600/600 [==============================] - 15s 25ms/step - loss: 4.6330 - accuracy: 0.0164 - val_loss: 4.5980 - val_accuracy: 0.0246\n",
      "Epoch 3/100\n",
      "600/600 [==============================] - 20s 33ms/step - loss: 4.5053 - accuracy: 0.0282 - val_loss: 4.4557 - val_accuracy: 0.0292\n",
      "Epoch 4/100\n",
      "600/600 [==============================] - 19s 32ms/step - loss: 4.3315 - accuracy: 0.0445 - val_loss: 4.4220 - val_accuracy: 0.0388\n",
      "Epoch 5/100\n",
      "600/600 [==============================] - 18s 31ms/step - loss: 4.1624 - accuracy: 0.0727 - val_loss: 4.4253 - val_accuracy: 0.0408\n",
      "Epoch 6/100\n",
      "600/600 [==============================] - 18s 31ms/step - loss: 3.9940 - accuracy: 0.1025 - val_loss: 4.6162 - val_accuracy: 0.0413\n",
      "Epoch 7/100\n",
      "600/600 [==============================] - 19s 32ms/step - loss: 3.8180 - accuracy: 0.1316 - val_loss: 4.6839 - val_accuracy: 0.0429\n",
      "Epoch 8/100\n",
      "600/600 [==============================] - 19s 32ms/step - loss: 3.5772 - accuracy: 0.1806 - val_loss: 4.8388 - val_accuracy: 0.0446\n",
      "Epoch 9/100\n",
      "600/600 [==============================] - 19s 32ms/step - loss: 3.2862 - accuracy: 0.2343 - val_loss: 4.8543 - val_accuracy: 0.0429\n"
     ]
    }
   ],
   "source": [
    "# fit architecture (using validation)\n",
    "history = model.fit(X_train, y_train, validation_split=0.2, batch_size=16, epochs=100, callbacks=[es], verbose=1)"
   ]
  },
  {
   "cell_type": "code",
   "execution_count": null,
   "id": "human-aruba",
   "metadata": {},
   "outputs": [],
   "source": []
  },
  {
   "cell_type": "code",
   "execution_count": null,
   "id": "fuzzy-inside",
   "metadata": {},
   "outputs": [],
   "source": []
  },
  {
   "cell_type": "code",
   "execution_count": null,
   "id": "retained-bacon",
   "metadata": {},
   "outputs": [],
   "source": []
  }
 ],
 "metadata": {
  "kernelspec": {
   "display_name": "Python 3",
   "language": "python",
   "name": "python3"
  },
  "language_info": {
   "codemirror_mode": {
    "name": "ipython",
    "version": 3
   },
   "file_extension": ".py",
   "mimetype": "text/x-python",
   "name": "python",
   "nbconvert_exporter": "python",
   "pygments_lexer": "ipython3",
   "version": "3.8.6"
  },
  "toc": {
   "base_numbering": 1,
   "nav_menu": {},
   "number_sections": true,
   "sideBar": true,
   "skip_h1_title": false,
   "title_cell": "Table of Contents",
   "title_sidebar": "Contents",
   "toc_cell": false,
   "toc_position": {},
   "toc_section_display": true,
   "toc_window_display": false
  }
 },
 "nbformat": 4,
 "nbformat_minor": 5
}
